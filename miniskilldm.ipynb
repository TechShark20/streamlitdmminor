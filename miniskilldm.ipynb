{
  "nbformat": 4,
  "nbformat_minor": 0,
  "metadata": {
    "colab": {
      "provenance": []
    },
    "kernelspec": {
      "name": "python3",
      "display_name": "Python 3"
    },
    "language_info": {
      "name": "python"
    }
  },
  "cells": [
    {
      "cell_type": "code",
      "execution_count": null,
      "metadata": {
        "id": "AxeWNL9XHX8K"
      },
      "outputs": [],
      "source": [
        "import pandas as pd "
      ]
    },
    {
      "cell_type": "code",
      "source": [
        "df=pd.read_csv(\"/content/Cars24.csv\")"
      ],
      "metadata": {
        "id": "WllVAOnJHfvL"
      },
      "execution_count": null,
      "outputs": []
    },
    {
      "cell_type": "code",
      "source": [
        "df.head()"
      ],
      "metadata": {
        "colab": {
          "base_uri": "https://localhost:8080/",
          "height": 302
        },
        "id": "sTr6y2K0HuRU",
        "outputId": "e0da73f5-f408-41aa-8ff1-1a5a5226c098"
      },
      "execution_count": null,
      "outputs": [
        {
          "output_type": "execute_result",
          "data": {
            "text/plain": [
              "   Unnamed: 0 Car Brand           Model   Price  Model Year   Location  \\\n",
              "0           0   Hyundai     EonERA PLUS  330399        2016  Hyderabad   \n",
              "1           1    Maruti  Wagon R 1.0LXI  350199        2011  Hyderabad   \n",
              "2           2    Maruti     Alto K10LXI  229199        2011  Hyderabad   \n",
              "3           3    Maruti   RitzVXI BS IV  306399        2011  Hyderabad   \n",
              "4           4      Tata   NanoTWIST XTA  208699        2015  Hyderabad   \n",
              "\n",
              "     Fuel  Driven (Kms)       Gear  Ownership  EMI (monthly)  \n",
              "0  Petrol         10674     Manual          2           7350  \n",
              "1  Petrol         20979     Manual          1           7790  \n",
              "2  Petrol         47330     Manual          2           5098  \n",
              "3  Petrol         19662     Manual          1           6816  \n",
              "4  Petrol         11256  Automatic          1           4642  "
            ],
            "text/html": [
              "\n",
              "  <div id=\"df-731c59d7-a251-4785-9437-972a7df6378a\">\n",
              "    <div class=\"colab-df-container\">\n",
              "      <div>\n",
              "<style scoped>\n",
              "    .dataframe tbody tr th:only-of-type {\n",
              "        vertical-align: middle;\n",
              "    }\n",
              "\n",
              "    .dataframe tbody tr th {\n",
              "        vertical-align: top;\n",
              "    }\n",
              "\n",
              "    .dataframe thead th {\n",
              "        text-align: right;\n",
              "    }\n",
              "</style>\n",
              "<table border=\"1\" class=\"dataframe\">\n",
              "  <thead>\n",
              "    <tr style=\"text-align: right;\">\n",
              "      <th></th>\n",
              "      <th>Unnamed: 0</th>\n",
              "      <th>Car Brand</th>\n",
              "      <th>Model</th>\n",
              "      <th>Price</th>\n",
              "      <th>Model Year</th>\n",
              "      <th>Location</th>\n",
              "      <th>Fuel</th>\n",
              "      <th>Driven (Kms)</th>\n",
              "      <th>Gear</th>\n",
              "      <th>Ownership</th>\n",
              "      <th>EMI (monthly)</th>\n",
              "    </tr>\n",
              "  </thead>\n",
              "  <tbody>\n",
              "    <tr>\n",
              "      <th>0</th>\n",
              "      <td>0</td>\n",
              "      <td>Hyundai</td>\n",
              "      <td>EonERA PLUS</td>\n",
              "      <td>330399</td>\n",
              "      <td>2016</td>\n",
              "      <td>Hyderabad</td>\n",
              "      <td>Petrol</td>\n",
              "      <td>10674</td>\n",
              "      <td>Manual</td>\n",
              "      <td>2</td>\n",
              "      <td>7350</td>\n",
              "    </tr>\n",
              "    <tr>\n",
              "      <th>1</th>\n",
              "      <td>1</td>\n",
              "      <td>Maruti</td>\n",
              "      <td>Wagon R 1.0LXI</td>\n",
              "      <td>350199</td>\n",
              "      <td>2011</td>\n",
              "      <td>Hyderabad</td>\n",
              "      <td>Petrol</td>\n",
              "      <td>20979</td>\n",
              "      <td>Manual</td>\n",
              "      <td>1</td>\n",
              "      <td>7790</td>\n",
              "    </tr>\n",
              "    <tr>\n",
              "      <th>2</th>\n",
              "      <td>2</td>\n",
              "      <td>Maruti</td>\n",
              "      <td>Alto K10LXI</td>\n",
              "      <td>229199</td>\n",
              "      <td>2011</td>\n",
              "      <td>Hyderabad</td>\n",
              "      <td>Petrol</td>\n",
              "      <td>47330</td>\n",
              "      <td>Manual</td>\n",
              "      <td>2</td>\n",
              "      <td>5098</td>\n",
              "    </tr>\n",
              "    <tr>\n",
              "      <th>3</th>\n",
              "      <td>3</td>\n",
              "      <td>Maruti</td>\n",
              "      <td>RitzVXI BS IV</td>\n",
              "      <td>306399</td>\n",
              "      <td>2011</td>\n",
              "      <td>Hyderabad</td>\n",
              "      <td>Petrol</td>\n",
              "      <td>19662</td>\n",
              "      <td>Manual</td>\n",
              "      <td>1</td>\n",
              "      <td>6816</td>\n",
              "    </tr>\n",
              "    <tr>\n",
              "      <th>4</th>\n",
              "      <td>4</td>\n",
              "      <td>Tata</td>\n",
              "      <td>NanoTWIST XTA</td>\n",
              "      <td>208699</td>\n",
              "      <td>2015</td>\n",
              "      <td>Hyderabad</td>\n",
              "      <td>Petrol</td>\n",
              "      <td>11256</td>\n",
              "      <td>Automatic</td>\n",
              "      <td>1</td>\n",
              "      <td>4642</td>\n",
              "    </tr>\n",
              "  </tbody>\n",
              "</table>\n",
              "</div>\n",
              "      <button class=\"colab-df-convert\" onclick=\"convertToInteractive('df-731c59d7-a251-4785-9437-972a7df6378a')\"\n",
              "              title=\"Convert this dataframe to an interactive table.\"\n",
              "              style=\"display:none;\">\n",
              "        \n",
              "  <svg xmlns=\"http://www.w3.org/2000/svg\" height=\"24px\"viewBox=\"0 0 24 24\"\n",
              "       width=\"24px\">\n",
              "    <path d=\"M0 0h24v24H0V0z\" fill=\"none\"/>\n",
              "    <path d=\"M18.56 5.44l.94 2.06.94-2.06 2.06-.94-2.06-.94-.94-2.06-.94 2.06-2.06.94zm-11 1L8.5 8.5l.94-2.06 2.06-.94-2.06-.94L8.5 2.5l-.94 2.06-2.06.94zm10 10l.94 2.06.94-2.06 2.06-.94-2.06-.94-.94-2.06-.94 2.06-2.06.94z\"/><path d=\"M17.41 7.96l-1.37-1.37c-.4-.4-.92-.59-1.43-.59-.52 0-1.04.2-1.43.59L10.3 9.45l-7.72 7.72c-.78.78-.78 2.05 0 2.83L4 21.41c.39.39.9.59 1.41.59.51 0 1.02-.2 1.41-.59l7.78-7.78 2.81-2.81c.8-.78.8-2.07 0-2.86zM5.41 20L4 18.59l7.72-7.72 1.47 1.35L5.41 20z\"/>\n",
              "  </svg>\n",
              "      </button>\n",
              "      \n",
              "  <style>\n",
              "    .colab-df-container {\n",
              "      display:flex;\n",
              "      flex-wrap:wrap;\n",
              "      gap: 12px;\n",
              "    }\n",
              "\n",
              "    .colab-df-convert {\n",
              "      background-color: #E8F0FE;\n",
              "      border: none;\n",
              "      border-radius: 50%;\n",
              "      cursor: pointer;\n",
              "      display: none;\n",
              "      fill: #1967D2;\n",
              "      height: 32px;\n",
              "      padding: 0 0 0 0;\n",
              "      width: 32px;\n",
              "    }\n",
              "\n",
              "    .colab-df-convert:hover {\n",
              "      background-color: #E2EBFA;\n",
              "      box-shadow: 0px 1px 2px rgba(60, 64, 67, 0.3), 0px 1px 3px 1px rgba(60, 64, 67, 0.15);\n",
              "      fill: #174EA6;\n",
              "    }\n",
              "\n",
              "    [theme=dark] .colab-df-convert {\n",
              "      background-color: #3B4455;\n",
              "      fill: #D2E3FC;\n",
              "    }\n",
              "\n",
              "    [theme=dark] .colab-df-convert:hover {\n",
              "      background-color: #434B5C;\n",
              "      box-shadow: 0px 1px 3px 1px rgba(0, 0, 0, 0.15);\n",
              "      filter: drop-shadow(0px 1px 2px rgba(0, 0, 0, 0.3));\n",
              "      fill: #FFFFFF;\n",
              "    }\n",
              "  </style>\n",
              "\n",
              "      <script>\n",
              "        const buttonEl =\n",
              "          document.querySelector('#df-731c59d7-a251-4785-9437-972a7df6378a button.colab-df-convert');\n",
              "        buttonEl.style.display =\n",
              "          google.colab.kernel.accessAllowed ? 'block' : 'none';\n",
              "\n",
              "        async function convertToInteractive(key) {\n",
              "          const element = document.querySelector('#df-731c59d7-a251-4785-9437-972a7df6378a');\n",
              "          const dataTable =\n",
              "            await google.colab.kernel.invokeFunction('convertToInteractive',\n",
              "                                                     [key], {});\n",
              "          if (!dataTable) return;\n",
              "\n",
              "          const docLinkHtml = 'Like what you see? Visit the ' +\n",
              "            '<a target=\"_blank\" href=https://colab.research.google.com/notebooks/data_table.ipynb>data table notebook</a>'\n",
              "            + ' to learn more about interactive tables.';\n",
              "          element.innerHTML = '';\n",
              "          dataTable['output_type'] = 'display_data';\n",
              "          await google.colab.output.renderOutput(dataTable, element);\n",
              "          const docLink = document.createElement('div');\n",
              "          docLink.innerHTML = docLinkHtml;\n",
              "          element.appendChild(docLink);\n",
              "        }\n",
              "      </script>\n",
              "    </div>\n",
              "  </div>\n",
              "  "
            ]
          },
          "metadata": {},
          "execution_count": 130
        }
      ]
    },
    {
      "cell_type": "code",
      "source": [
        "df=df.set_index(df.columns[0])"
      ],
      "metadata": {
        "id": "0MhrlhVaHvsh"
      },
      "execution_count": null,
      "outputs": []
    },
    {
      "cell_type": "code",
      "source": [
        "len(df['Model'].unique())"
      ],
      "metadata": {
        "colab": {
          "base_uri": "https://localhost:8080/"
        },
        "id": "wn9M_XzDIIGp",
        "outputId": "25dd868b-2737-4398-d898-ff0381c8f911"
      },
      "execution_count": null,
      "outputs": [
        {
          "output_type": "execute_result",
          "data": {
            "text/plain": [
              "903"
            ]
          },
          "metadata": {},
          "execution_count": 104
        }
      ]
    },
    {
      "cell_type": "markdown",
      "source": [],
      "metadata": {
        "id": "YZLl1GJJKgp7"
      }
    },
    {
      "cell_type": "code",
      "source": [
        "df['Location'].unique()"
      ],
      "metadata": {
        "colab": {
          "base_uri": "https://localhost:8080/"
        },
        "id": "utkF3UC0KhXX",
        "outputId": "5ebeee51-40b2-4cd0-cd9f-9b857e9e26c7"
      },
      "execution_count": null,
      "outputs": [
        {
          "output_type": "execute_result",
          "data": {
            "text/plain": [
              "array(['Hyderabad', 'Delhi', 'Mumbai', 'Bangalore', 'Chennai'],\n",
              "      dtype=object)"
            ]
          },
          "metadata": {},
          "execution_count": 105
        }
      ]
    },
    {
      "cell_type": "code",
      "source": [
        "df['Driven (Kms)'].max()"
      ],
      "metadata": {
        "colab": {
          "base_uri": "https://localhost:8080/"
        },
        "id": "KiBQ4tmlgMoh",
        "outputId": "95cbf4e9-f360-43b1-f78e-a1f7ab076798"
      },
      "execution_count": null,
      "outputs": [
        {
          "output_type": "execute_result",
          "data": {
            "text/plain": [
              "912380"
            ]
          },
          "metadata": {},
          "execution_count": 126
        }
      ]
    },
    {
      "cell_type": "code",
      "source": [
        "df['Fuel'].unique()"
      ],
      "metadata": {
        "colab": {
          "base_uri": "https://localhost:8080/"
        },
        "id": "nkQqAIUaQobR",
        "outputId": "3b9863ab-078e-4be7-dc2b-74377eb0310a"
      },
      "execution_count": null,
      "outputs": [
        {
          "output_type": "execute_result",
          "data": {
            "text/plain": [
              "array(['Petrol', 'Petrol + CNG', 'Diesel', 'Petrol + LPG', 'Electric'],\n",
              "      dtype=object)"
            ]
          },
          "metadata": {},
          "execution_count": 106
        }
      ]
    },
    {
      "cell_type": "code",
      "source": [
        "df['Car Brand'].unique()"
      ],
      "metadata": {
        "colab": {
          "base_uri": "https://localhost:8080/"
        },
        "id": "qVRD_BjOKyy3",
        "outputId": "ad8280de-2f98-41d5-d12a-b984ed2ffdbd"
      },
      "execution_count": null,
      "outputs": [
        {
          "output_type": "execute_result",
          "data": {
            "text/plain": [
              "array(['Hyundai', 'Maruti', 'Tata', 'Honda', 'Renault', 'Volkswagen',\n",
              "       'Ford', 'Toyota', 'Mahindra', 'Nissan', 'Skoda', 'Audi',\n",
              "       'Chevrolet', 'Datsun', 'KIA', 'MG', 'Volvo', 'Mercedes', 'Fiat',\n",
              "       'Landrover', 'BMW', 'ISUZU', 'Ssangyong', 'Mitsubishi', 'Jeep',\n",
              "       'Jaguar', 'TOYOTA'], dtype=object)"
            ]
          },
          "metadata": {},
          "execution_count": 107
        }
      ]
    },
    {
      "cell_type": "code",
      "source": [
        "df.info()"
      ],
      "metadata": {
        "colab": {
          "base_uri": "https://localhost:8080/"
        },
        "id": "SIHGslmEIJrB",
        "outputId": "91ab2e72-e07d-489f-c408-9944d35209a9"
      },
      "execution_count": null,
      "outputs": [
        {
          "output_type": "stream",
          "name": "stdout",
          "text": [
            "<class 'pandas.core.frame.DataFrame'>\n",
            "Int64Index: 5918 entries, 0 to 5917\n",
            "Data columns (total 10 columns):\n",
            " #   Column         Non-Null Count  Dtype \n",
            "---  ------         --------------  ----- \n",
            " 0   Car Brand      5918 non-null   object\n",
            " 1   Model          5653 non-null   object\n",
            " 2   Price          5918 non-null   int64 \n",
            " 3   Model Year     5918 non-null   int64 \n",
            " 4   Location       5918 non-null   object\n",
            " 5   Fuel           5918 non-null   object\n",
            " 6   Driven (Kms)   5918 non-null   int64 \n",
            " 7   Gear           5653 non-null   object\n",
            " 8   Ownership      5918 non-null   int64 \n",
            " 9   EMI (monthly)  5918 non-null   int64 \n",
            "dtypes: int64(5), object(5)\n",
            "memory usage: 508.6+ KB\n"
          ]
        }
      ]
    },
    {
      "cell_type": "code",
      "source": [
        "df=df.drop(['Model','EMI (monthly)'],axis=1)#it will crearte data in sufficiency  so dropping them "
      ],
      "metadata": {
        "id": "zkH7FEGgIgoZ"
      },
      "execution_count": null,
      "outputs": []
    },
    {
      "cell_type": "code",
      "source": [
        "df.isna().sum()"
      ],
      "metadata": {
        "colab": {
          "base_uri": "https://localhost:8080/"
        },
        "id": "mva4C10fIuYJ",
        "outputId": "a4dba6eb-25a8-4328-8189-68a6930d6620"
      },
      "execution_count": null,
      "outputs": [
        {
          "output_type": "execute_result",
          "data": {
            "text/plain": [
              "Car Brand         0\n",
              "Price             0\n",
              "Model Year        0\n",
              "Location          0\n",
              "Fuel              0\n",
              "Driven (Kms)      0\n",
              "Gear            265\n",
              "Ownership         0\n",
              "dtype: int64"
            ]
          },
          "metadata": {},
          "execution_count": 110
        }
      ]
    },
    {
      "cell_type": "code",
      "source": [
        "df['Gear'] = df['Gear'].fillna(df['Gear'].mode()[0]) #replacing null values with mode"
      ],
      "metadata": {
        "id": "SKxhe--uJJ3D"
      },
      "execution_count": null,
      "outputs": []
    },
    {
      "cell_type": "code",
      "source": [
        "y=df['Price']\n",
        "x=df.drop(['Price'],axis=1)"
      ],
      "metadata": {
        "id": "zKjQSRoCJpBT"
      },
      "execution_count": null,
      "outputs": []
    },
    {
      "cell_type": "code",
      "source": [
        "from sklearn.preprocessing import LabelEncoder\n",
        "for i in x.columns:\n",
        "  if i=='Driven (Kms)':\n",
        "    continue\n",
        "  le=LabelEncoder()\n",
        "  x[i]=le.fit_transform(df[i])\n",
        "\n",
        "\n"
      ],
      "metadata": {
        "id": "XMudvePNKXxC"
      },
      "execution_count": null,
      "outputs": []
    },
    {
      "cell_type": "code",
      "source": [
        "import pickle as pkl\n",
        "le1=LabelEncoder()\n",
        "le1.fit(df['Car Brand'])\n",
        "le2=LabelEncoder()\n",
        "le2.fit(df['Model Year'])\n",
        "le3=LabelEncoder()\n",
        "le3.fit(df['Location'])\n",
        "le4=LabelEncoder()\n",
        "le4.fit(df['Fuel'])\n",
        "le5=LabelEncoder()\n",
        "le5.fit(df['Gear'])\n",
        "le6=LabelEncoder()\n",
        "le6.fit(df['Ownership'])"
      ],
      "metadata": {
        "id": "AF_ZpPYtuDZX"
      },
      "execution_count": null,
      "outputs": []
    },
    {
      "cell_type": "code",
      "source": [],
      "metadata": {
        "id": "QVlltn3vuDif"
      },
      "execution_count": null,
      "outputs": []
    },
    {
      "cell_type": "code",
      "source": [
        "x.head()"
      ],
      "metadata": {
        "colab": {
          "base_uri": "https://localhost:8080/",
          "height": 238
        },
        "id": "QA62VeAPLrHa",
        "outputId": "01123776-9de4-4ffb-e956-1faa622f49f9"
      },
      "execution_count": null,
      "outputs": [
        {
          "output_type": "execute_result",
          "data": {
            "text/plain": [
              "            Car Brand  Model Year  Location  Fuel  Driven (Kms)  Gear  \\\n",
              "Unnamed: 0                                                              \n",
              "0                   7           9         3     2         10674     1   \n",
              "1                  15           4         3     2         20979     1   \n",
              "2                  15           4         3     2         47330     1   \n",
              "3                  15           4         3     2         19662     1   \n",
              "4                  23           8         3     2         11256     0   \n",
              "\n",
              "            Ownership  \n",
              "Unnamed: 0             \n",
              "0                   1  \n",
              "1                   0  \n",
              "2                   1  \n",
              "3                   0  \n",
              "4                   0  "
            ],
            "text/html": [
              "\n",
              "  <div id=\"df-b10137c6-06f1-4cc5-a2f4-ab0f2ec67baf\">\n",
              "    <div class=\"colab-df-container\">\n",
              "      <div>\n",
              "<style scoped>\n",
              "    .dataframe tbody tr th:only-of-type {\n",
              "        vertical-align: middle;\n",
              "    }\n",
              "\n",
              "    .dataframe tbody tr th {\n",
              "        vertical-align: top;\n",
              "    }\n",
              "\n",
              "    .dataframe thead th {\n",
              "        text-align: right;\n",
              "    }\n",
              "</style>\n",
              "<table border=\"1\" class=\"dataframe\">\n",
              "  <thead>\n",
              "    <tr style=\"text-align: right;\">\n",
              "      <th></th>\n",
              "      <th>Car Brand</th>\n",
              "      <th>Model Year</th>\n",
              "      <th>Location</th>\n",
              "      <th>Fuel</th>\n",
              "      <th>Driven (Kms)</th>\n",
              "      <th>Gear</th>\n",
              "      <th>Ownership</th>\n",
              "    </tr>\n",
              "    <tr>\n",
              "      <th>Unnamed: 0</th>\n",
              "      <th></th>\n",
              "      <th></th>\n",
              "      <th></th>\n",
              "      <th></th>\n",
              "      <th></th>\n",
              "      <th></th>\n",
              "      <th></th>\n",
              "    </tr>\n",
              "  </thead>\n",
              "  <tbody>\n",
              "    <tr>\n",
              "      <th>0</th>\n",
              "      <td>7</td>\n",
              "      <td>9</td>\n",
              "      <td>3</td>\n",
              "      <td>2</td>\n",
              "      <td>10674</td>\n",
              "      <td>1</td>\n",
              "      <td>1</td>\n",
              "    </tr>\n",
              "    <tr>\n",
              "      <th>1</th>\n",
              "      <td>15</td>\n",
              "      <td>4</td>\n",
              "      <td>3</td>\n",
              "      <td>2</td>\n",
              "      <td>20979</td>\n",
              "      <td>1</td>\n",
              "      <td>0</td>\n",
              "    </tr>\n",
              "    <tr>\n",
              "      <th>2</th>\n",
              "      <td>15</td>\n",
              "      <td>4</td>\n",
              "      <td>3</td>\n",
              "      <td>2</td>\n",
              "      <td>47330</td>\n",
              "      <td>1</td>\n",
              "      <td>1</td>\n",
              "    </tr>\n",
              "    <tr>\n",
              "      <th>3</th>\n",
              "      <td>15</td>\n",
              "      <td>4</td>\n",
              "      <td>3</td>\n",
              "      <td>2</td>\n",
              "      <td>19662</td>\n",
              "      <td>1</td>\n",
              "      <td>0</td>\n",
              "    </tr>\n",
              "    <tr>\n",
              "      <th>4</th>\n",
              "      <td>23</td>\n",
              "      <td>8</td>\n",
              "      <td>3</td>\n",
              "      <td>2</td>\n",
              "      <td>11256</td>\n",
              "      <td>0</td>\n",
              "      <td>0</td>\n",
              "    </tr>\n",
              "  </tbody>\n",
              "</table>\n",
              "</div>\n",
              "      <button class=\"colab-df-convert\" onclick=\"convertToInteractive('df-b10137c6-06f1-4cc5-a2f4-ab0f2ec67baf')\"\n",
              "              title=\"Convert this dataframe to an interactive table.\"\n",
              "              style=\"display:none;\">\n",
              "        \n",
              "  <svg xmlns=\"http://www.w3.org/2000/svg\" height=\"24px\"viewBox=\"0 0 24 24\"\n",
              "       width=\"24px\">\n",
              "    <path d=\"M0 0h24v24H0V0z\" fill=\"none\"/>\n",
              "    <path d=\"M18.56 5.44l.94 2.06.94-2.06 2.06-.94-2.06-.94-.94-2.06-.94 2.06-2.06.94zm-11 1L8.5 8.5l.94-2.06 2.06-.94-2.06-.94L8.5 2.5l-.94 2.06-2.06.94zm10 10l.94 2.06.94-2.06 2.06-.94-2.06-.94-.94-2.06-.94 2.06-2.06.94z\"/><path d=\"M17.41 7.96l-1.37-1.37c-.4-.4-.92-.59-1.43-.59-.52 0-1.04.2-1.43.59L10.3 9.45l-7.72 7.72c-.78.78-.78 2.05 0 2.83L4 21.41c.39.39.9.59 1.41.59.51 0 1.02-.2 1.41-.59l7.78-7.78 2.81-2.81c.8-.78.8-2.07 0-2.86zM5.41 20L4 18.59l7.72-7.72 1.47 1.35L5.41 20z\"/>\n",
              "  </svg>\n",
              "      </button>\n",
              "      \n",
              "  <style>\n",
              "    .colab-df-container {\n",
              "      display:flex;\n",
              "      flex-wrap:wrap;\n",
              "      gap: 12px;\n",
              "    }\n",
              "\n",
              "    .colab-df-convert {\n",
              "      background-color: #E8F0FE;\n",
              "      border: none;\n",
              "      border-radius: 50%;\n",
              "      cursor: pointer;\n",
              "      display: none;\n",
              "      fill: #1967D2;\n",
              "      height: 32px;\n",
              "      padding: 0 0 0 0;\n",
              "      width: 32px;\n",
              "    }\n",
              "\n",
              "    .colab-df-convert:hover {\n",
              "      background-color: #E2EBFA;\n",
              "      box-shadow: 0px 1px 2px rgba(60, 64, 67, 0.3), 0px 1px 3px 1px rgba(60, 64, 67, 0.15);\n",
              "      fill: #174EA6;\n",
              "    }\n",
              "\n",
              "    [theme=dark] .colab-df-convert {\n",
              "      background-color: #3B4455;\n",
              "      fill: #D2E3FC;\n",
              "    }\n",
              "\n",
              "    [theme=dark] .colab-df-convert:hover {\n",
              "      background-color: #434B5C;\n",
              "      box-shadow: 0px 1px 3px 1px rgba(0, 0, 0, 0.15);\n",
              "      filter: drop-shadow(0px 1px 2px rgba(0, 0, 0, 0.3));\n",
              "      fill: #FFFFFF;\n",
              "    }\n",
              "  </style>\n",
              "\n",
              "      <script>\n",
              "        const buttonEl =\n",
              "          document.querySelector('#df-b10137c6-06f1-4cc5-a2f4-ab0f2ec67baf button.colab-df-convert');\n",
              "        buttonEl.style.display =\n",
              "          google.colab.kernel.accessAllowed ? 'block' : 'none';\n",
              "\n",
              "        async function convertToInteractive(key) {\n",
              "          const element = document.querySelector('#df-b10137c6-06f1-4cc5-a2f4-ab0f2ec67baf');\n",
              "          const dataTable =\n",
              "            await google.colab.kernel.invokeFunction('convertToInteractive',\n",
              "                                                     [key], {});\n",
              "          if (!dataTable) return;\n",
              "\n",
              "          const docLinkHtml = 'Like what you see? Visit the ' +\n",
              "            '<a target=\"_blank\" href=https://colab.research.google.com/notebooks/data_table.ipynb>data table notebook</a>'\n",
              "            + ' to learn more about interactive tables.';\n",
              "          element.innerHTML = '';\n",
              "          dataTable['output_type'] = 'display_data';\n",
              "          await google.colab.output.renderOutput(dataTable, element);\n",
              "          const docLink = document.createElement('div');\n",
              "          docLink.innerHTML = docLinkHtml;\n",
              "          element.appendChild(docLink);\n",
              "        }\n",
              "      </script>\n",
              "    </div>\n",
              "  </div>\n",
              "  "
            ]
          },
          "metadata": {},
          "execution_count": 114
        }
      ]
    },
    {
      "cell_type": "code",
      "source": [
        "from sklearn.model_selection import train_test_split\n",
        "X_train, X_test,y_train, y_test = train_test_split(x,y,random_state=104, test_size=0.25, shuffle=True)"
      ],
      "metadata": {
        "id": "wQy_Lw79Lvti"
      },
      "execution_count": null,
      "outputs": []
    },
    {
      "cell_type": "code",
      "source": [
        "from sklearn.ensemble import RandomForestRegressor\n",
        "oldx=0\n",
        "nest=1\n",
        "for i in range(1,100): \n",
        " # create regressor object\n",
        "          regressor = RandomForestRegressor(n_estimators = i, random_state = 4)\n",
        " \n",
        "# fit the regressor with x and y data\n",
        "          regressor.fit(X_train, y_train) \n",
        "          x=regressor.score(X_test, y_test)\n",
        "          if x>oldx:\n",
        "            oldx=x\n",
        "            nest=i"
      ],
      "metadata": {
        "id": "U4Yb1Q2LMFsi"
      },
      "execution_count": null,
      "outputs": []
    },
    {
      "cell_type": "code",
      "source": [
        "nest\n",
        "regressor = RandomForestRegressor(n_estimators = nest, random_state = 4)\n",
        "regressor.fit(X_train, y_train) \n",
        "x=regressor.score(X_test, y_test)"
      ],
      "metadata": {
        "id": "o5sSJUHRMk2C"
      },
      "execution_count": null,
      "outputs": []
    },
    {
      "cell_type": "code",
      "source": [
        "x #highest accuracy obtained "
      ],
      "metadata": {
        "colab": {
          "base_uri": "https://localhost:8080/"
        },
        "id": "OJ-IZ6aJM0bK",
        "outputId": "40c5c3e5-8cf1-45f3-d8ec-e10f55387e65"
      },
      "execution_count": null,
      "outputs": [
        {
          "output_type": "execute_result",
          "data": {
            "text/plain": [
              "0.7029448414989911"
            ]
          },
          "metadata": {},
          "execution_count": 118
        }
      ]
    },
    {
      "cell_type": "code",
      "source": [
        "#saving the model\n",
        "le1=LabelEncoder()\n",
        "le1.fit(df['Car Brand'])\n",
        "le2=LabelEncoder()\n",
        "le2.fit(df['Model Year'])\n",
        "le3=LabelEncoder()\n",
        "le3.fit(df['Location'])\n",
        "le4=LabelEncoder()\n",
        "le4.fit(df['Fuel'])\n",
        "le5=LabelEncoder()\n",
        "le5.fit(df['Gear'])\n",
        "le6=LabelEncoder()\n",
        "le6.fit(df['Ownership'])\n",
        "import pickle\n",
        "pickle.dump(le1, open('brand.pkl','wb'))\n",
        "pickle.dump(le2, open('year.pkl','wb'))\n",
        "pickle.dump(le3, open('loc.pkl','wb'))\n",
        "pickle.dump(le4, open('fuel.pkl','wb'))\n",
        "pickle.dump(le5, open('gear.pkl','wb'))\n",
        "pickle.dump(le6, open('ownership.pkl','wb'))"
      ],
      "metadata": {
        "id": "74EWqyAVNhF7"
      },
      "execution_count": 140,
      "outputs": []
    },
    {
      "cell_type": "code",
      "source": [
        "x"
      ],
      "metadata": {
        "colab": {
          "base_uri": "https://localhost:8080/"
        },
        "id": "K10pTNWzTL2w",
        "outputId": "2e6019ff-85bf-48b1-9d51-70cbaf64e4a6"
      },
      "execution_count": 141,
      "outputs": [
        {
          "output_type": "execute_result",
          "data": {
            "text/plain": [
              "0.7029448414989911"
            ]
          },
          "metadata": {},
          "execution_count": 141
        }
      ]
    },
    {
      "cell_type": "code",
      "source": [],
      "metadata": {
        "id": "pjh4YH5wyrf1"
      },
      "execution_count": null,
      "outputs": []
    }
  ]
}